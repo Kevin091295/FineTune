{
  "nbformat": 4,
  "nbformat_minor": 0,
  "metadata": {
    "colab": {
      "provenance": [],
      "authorship_tag": "ABX9TyNj/LzM3D2lh6k8gMmk0G6A",
      "include_colab_link": true
    },
    "kernelspec": {
      "name": "python3",
      "display_name": "Python 3"
    },
    "language_info": {
      "name": "python"
    }
  },
  "cells": [
    {
      "cell_type": "markdown",
      "metadata": {
        "id": "view-in-github",
        "colab_type": "text"
      },
      "source": [
        "<a href=\"https://colab.research.google.com/github/Kevin091295/FineTune/blob/main/Improve_finetune.ipynb\" target=\"_parent\"><img src=\"https://colab.research.google.com/assets/colab-badge.svg\" alt=\"Open In Colab\"/></a>"
      ]
    },
    {
      "cell_type": "markdown",
      "source": [
        "# **How to Improve Model Performance During Inference?**\n",
        "\n",
        "\n"
      ],
      "metadata": {
        "id": "K1wadVOm2eka"
      }
    },
    {
      "cell_type": "markdown",
      "source": [
        "   inputs = tokenizer(input_text, return_tensors=\"pt\").to(\"cuda\")\n",
        "\n",
        "    with torch.no_grad():\n",
        "        output = model.generate(\n",
        "            **inputs,\n",
        "            max_new_tokens=100,  # Allows more details\n",
        "            temperature=0.3,  # Ensures factual accuracy\n",
        "            top_p=0.9,  # Selects meaningful tokens\n",
        "            repetition_penalty=2.0,  # Prevents repeating words\n",
        "            num_beams=3  # Uses beam search for better responses\n",
        "        )\n",
        "\n",
        "    return tokenizer.decode(output[0], skip_special_tokens=True).strip()\n",
        "\n",
        "```\n",
        "# This is formatted as code\n",
        "```\n",
        "\n"
      ],
      "metadata": {
        "id": "Zuj7mywH4c4A"
      }
    },
    {
      "cell_type": "markdown",
      "source": [
        "✅ 1. Adjust max_new_tokens for More Detailed but Controlled Responses\n",
        "\n",
        "🔹 Increase max_new_tokens from 50 → 100 (if your questions need longer answers).\n",
        "\n",
        "🔹 Decrease max_new_tokens (e.g., 30-40) for short, precise answers\n",
        "\n",
        "     Why?\n",
        "        *✔ Allows generating more meaningful details without truncation.*"
      ],
      "metadata": {
        "id": "0ANcfkrx2oIE"
      }
    },
    {
      "cell_type": "markdown",
      "source": [
        "✅ 2. Lower temperature to Reduce Hallucination\n",
        "\n",
        "🔹 Decrease temperature from 0.7 → 0.3 to improve factual correctness.\n",
        "\n",
        "🔹 If responses lack variation, slightly increase it (0.4 - 0.5 max).\n",
        "        \n",
        "         Why?\n",
        "          ✔ Ensures factual responses instead of overly creative or random ones."
      ],
      "metadata": {
        "id": "kkcJX-rL3ItF"
      }
    },
    {
      "cell_type": "markdown",
      "source": [
        "✅ 3. Adjust top_p for Balanced Token Selection\n",
        "\n",
        "🔹 Increase top_p from 0.8 → 0.9 if answers seem incomplete.\n",
        "\n",
        "🔹 Reduce top_p to 0.7 for more focused responses.\n",
        "\n",
        "        ✅ Why?\n",
        "          ✔ Ensures the model selects the most relevant tokens instead of random ones"
      ],
      "metadata": {
        "id": "7Tvlqzsi3lOb"
      }
    },
    {
      "cell_type": "markdown",
      "source": [
        "✅ 4. Increase repetition_penalty to Prevent Redundancy\n",
        "\n",
        "🔹 Increase repetition_penalty from 1.7 → 2.0 if answers repeat unnecessary phrases.\n",
        "\n",
        "🔹 If answers become too short or unnatural, lower it (1.4 - 1.5).\n",
        "\n",
        "          ✅ Why?\n",
        "            ✔ Prevents redundancy and ensures more varied, natural-sounding responses."
      ],
      "metadata": {
        "id": "TZ8WZYNT32IF"
      }
    },
    {
      "cell_type": "markdown",
      "source": [
        "✅ 5. Use num_beams for Beam Search (Better Search Quality)\n",
        "\n",
        "🔹 Enable num_beams=3 to make the model consider multiple answer possibilities before choosing the best one.\n",
        "\n",
        "    ✅ Why?\n",
        "      ✔ Generates more accurate, complete, and high-quality answers.\n"
      ],
      "metadata": {
        "id": "HSx_Y1Cs4Jhy"
      }
    },
    {
      "cell_type": "code",
      "source": [],
      "metadata": {
        "id": "W_HO4Dg-4RqL"
      },
      "execution_count": null,
      "outputs": []
    }
  ]
}